{
 "cells": [
  {
   "cell_type": "code",
   "execution_count": null,
   "id": "d05442af-c897-4baf-98c6-7472daea65a7",
   "metadata": {},
   "outputs": [],
   "source": [
    "import pandas as pd \n",
    "import numpy as np \n",
    "import seaborn as sns  \n",
    "import matplotlib.pyplot as plt \n",
    "%matplotlib inline\n",
    "import warnings \n",
    "warnings.filterwarnings('ignore')"
   ]
  },
  {
   "cell_type": "code",
   "execution_count": null,
   "id": "cf769f4f-58e6-40fe-ad76-b47636229025",
   "metadata": {},
   "outputs": [],
   "source": [
    "df=pd.read_csv('Automobile_insurance_fraud.csv')"
   ]
  },
  {
   "cell_type": "code",
   "execution_count": null,
   "id": "b724206c-904e-4a08-9cc9-f098b60c18ef",
   "metadata": {},
   "outputs": [],
   "source": [
    "print('No of Rows:',df.shape[0])\n",
    "print('No of Columns:',df.shape[1])\n",
    "pd.set_option('display.max_columns', None) \n",
    "df.head()"
   ]
  },
  {
   "cell_type": "code",
   "execution_count": null,
   "id": "dc951c23-d26b-4952-8ebe-ee5c4675dce1",
   "metadata": {},
   "outputs": [],
   "source": [
    "df.columns.to_series().groupby(df.dtypes).groups\n"
   ]
  },
  {
   "cell_type": "code",
   "execution_count": null,
   "id": "1741da1a-9e08-4915-bd8e-b940cfb8e853",
   "metadata": {},
   "outputs": [],
   "source": [
    "df.duplicated('policy_number').sum()"
   ]
  },
  {
   "cell_type": "code",
   "execution_count": null,
   "id": "996efba0-0e79-4f6b-ad99-08d866a2f3e8",
   "metadata": {},
   "outputs": [],
   "source": [
    "df.isin([' ','NA','-']).sum().any()"
   ]
  },
  {
   "cell_type": "code",
   "execution_count": null,
   "id": "0d97ba3b-9ab9-4d18-92ee-4459437d17e8",
   "metadata": {},
   "outputs": [],
   "source": [
    "df.isin(['?']).sum().any()"
   ]
  },
  {
   "cell_type": "code",
   "execution_count": null,
   "id": "c519462d-d285-4c3c-9cbb-7aa42ca45664",
   "metadata": {},
   "outputs": [],
   "source": [
    "df=df.replace('?',np.NaN)"
   ]
  },
  {
   "cell_type": "code",
   "execution_count": null,
   "id": "ea8af457-e153-4e44-9425-0d3319367993",
   "metadata": {},
   "outputs": [],
   "source": [
    "missing_values = df.isnull().sum().sort_values(ascending = False)\n",
    "percentage_missing_values =(missing_values/len(df))*100\n",
    "print(pd.concat([missing_values, percentage_missing_values], axis =1, keys =['Missing Values', '% Missing data']))"
   ]
  },
  {
   "cell_type": "code",
   "execution_count": null,
   "id": "8936c2f4-a824-49e3-b4c7-14ad7e5f8cf1",
   "metadata": {},
   "outputs": [],
   "source": [
    "df['property_damage'].fillna(df['property_damage'].mode()[0],inplace=True)\n",
    "df['police_report_available'].fillna(df['police_report_available'].mode()[0],inplace=True)\n",
    "df['collision_type'].fillna(df['collision_type'].mode()[0],inplace=True)\n"
   ]
  },
  {
   "cell_type": "code",
   "execution_count": null,
   "id": "e8538b2c-4713-43e6-9aa1-d068b1e16d59",
   "metadata": {},
   "outputs": [],
   "source": [
    "df.drop(['_c39','incident_location','insured_zip','policy_number'],axis=1,inplace=True)"
   ]
  },
  {
   "cell_type": "code",
   "execution_count": null,
   "id": "bc2569d5-6b86-45a2-8af4-212cddad3220",
   "metadata": {},
   "outputs": [],
   "source": [
    "sns.heatmap(df.isnull(),cmap=\"gist_earth\")\n",
    "plt.show()\n"
   ]
  },
  {
   "cell_type": "code",
   "execution_count": null,
   "id": "e2abec67-e53b-4eb0-b790-ba3a7559b1bd",
   "metadata": {},
   "outputs": [],
   "source": [
    "df['CSL_Personal']=df.policy_csl.str.split('/',expand=True)[0]\n",
    "df['CSL_Accidental']=df.policy_csl.str.split('/',expand=True)[1]"
   ]
  },
  {
   "cell_type": "code",
   "execution_count": null,
   "id": "08edd9ca-aa2b-42ca-874f-a053179436ec",
   "metadata": {},
   "outputs": [],
   "source": [
    "df.drop(\"policy_csl\",axis=1,inplace=True)"
   ]
  },
  {
   "cell_type": "code",
   "execution_count": null,
   "id": "65b755bc-c719-4b0a-870a-a75c3ef13a62",
   "metadata": {},
   "outputs": [],
   "source": [
    "df['policy_bind_date']=pd.to_datetime(df['policy_bind_date'])\n",
    "df['incident_date']=pd.to_datetime(df['incident_date'])"
   ]
  },
  {
   "cell_type": "code",
   "execution_count": null,
   "id": "02769aee-5b61-46d6-9b02-dffea2fa7d90",
   "metadata": {},
   "outputs": [],
   "source": [
    "df['policy_bind_day'] = df['policy_bind_date'].dt.day\n",
    "df['policy_bind_month'] = df['policy_bind_date'].dt.month\n",
    "df['policy_bind_year'] = df['policy_bind_date'].dt.year\n",
    "\n",
    "\n",
    "df['incident_day'] = df['incident_date'].dt.day\n",
    "df['incident_month'] = df['incident_date'].dt.month\n",
    "df['incident_year'] = df['incident_date'].dt.year"
   ]
  },
  {
   "cell_type": "code",
   "execution_count": null,
   "id": "64c56825-ada7-4303-9fa0-f0f5f5e057db",
   "metadata": {},
   "outputs": [],
   "source": [
    "df.drop(['policy_bind_date','incident_date'],axis=1,inplace=True)\n"
   ]
  },
  {
   "cell_type": "code",
   "execution_count": null,
   "id": "668f2425-8f7d-4fec-a79e-081a19eeb724",
   "metadata": {},
   "outputs": [],
   "source": [
    "df.drop(['incident_year'],axis=1,inplace=True)"
   ]
  },
  {
   "cell_type": "code",
   "execution_count": null,
   "id": "cd087fe6-621d-483c-83e8-e308d99639bd",
   "metadata": {},
   "outputs": [],
   "source": [
    "df['Automobile_Age']=2015 - df['auto_year'\n",
    "df.drop(\"auto_year\",axis=1,inplace=True)\n"
   ]
  },
  {
   "cell_type": "code",
   "execution_count": null,
   "id": "b08a3fac-df04-426e-a958-4c7ba4c75570",
   "metadata": {},
   "outputs": [],
   "source": []
  },
  {
   "cell_type": "code",
   "execution_count": null,
   "id": "e49d484a-9ec1-48cc-a2dd-a87087af12c1",
   "metadata": {},
   "outputs": [],
   "source": []
  },
  {
   "cell_type": "code",
   "execution_count": null,
   "id": "fb33c3df-25d8-4106-8a4a-b9d2bcae3344",
   "metadata": {},
   "outputs": [],
   "source": []
  },
  {
   "cell_type": "code",
   "execution_count": null,
   "id": "4b56f803-f401-4df5-9fc8-b442d9df6143",
   "metadata": {},
   "outputs": [],
   "source": []
  },
  {
   "cell_type": "code",
   "execution_count": null,
   "id": "705639b0-0bc6-424b-b75a-133b9a40bde8",
   "metadata": {},
   "outputs": [],
   "source": []
  },
  {
   "cell_type": "code",
   "execution_count": null,
   "id": "4c2dd882-3d4e-46f1-b3f2-264c73b84343",
   "metadata": {},
   "outputs": [],
   "source": []
  },
  {
   "cell_type": "code",
   "execution_count": null,
   "id": "6263f353-c660-4a17-bbf3-0d40ae541ca7",
   "metadata": {},
   "outputs": [],
   "source": []
  }
 ],
 "metadata": {
  "kernelspec": {
   "display_name": "Python 3 (ipykernel)",
   "language": "python",
   "name": "python3"
  },
  "language_info": {
   "codemirror_mode": {
    "name": "ipython",
    "version": 3
   },
   "file_extension": ".py",
   "mimetype": "text/x-python",
   "name": "python",
   "nbconvert_exporter": "python",
   "pygments_lexer": "ipython3",
   "version": "3.11.7"
  }
 },
 "nbformat": 4,
 "nbformat_minor": 5
}
